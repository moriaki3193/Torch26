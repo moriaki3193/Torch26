{
 "cells": [
  {
   "cell_type": "markdown",
   "metadata": {},
   "source": [
    "https://gist.github.com/xiangze/7050d5746a6d953eb54e9c3e4007321f"
   ]
  },
  {
   "cell_type": "code",
   "execution_count": 2,
   "metadata": {},
   "outputs": [],
   "source": [
    "import argparse\n",
    "import logging\n",
    "import math\n",
    "import os\n",
    "\n",
    "import numpy as np\n",
    "import matplotlib.pyplot as plt\n",
    "import pandas as pd\n",
    "import seaborn as sns\n",
    "import torch\n",
    "\n",
    "import pyro\n",
    "import pyro.poutine as poutine\n",
    "from pyro.distributions import Beta, Binomial, HalfCauchy, Normal, Pareto, Uniform\n",
    "from pyro.distributions.util import logsumexp\n",
    "from pyro.infer import EmpiricalMarginal\n",
    "from pyro.infer.abstract_infer import TracePredictive\n",
    "from pyro.infer.mcmc import MCMC, NUTS"
   ]
  },
  {
   "cell_type": "code",
   "execution_count": 3,
   "metadata": {},
   "outputs": [],
   "source": [
    "%matplotlib inline\n",
    "plt.style.use('seaborn')\n",
    "logging.basicConfig(format='%(message)s', level=logging.INFO)"
   ]
  },
  {
   "cell_type": "code",
   "execution_count": 4,
   "metadata": {},
   "outputs": [
    {
     "data": {
      "text/html": [
       "<div>\n",
       "<style scoped>\n",
       "    .dataframe tbody tr th:only-of-type {\n",
       "        vertical-align: middle;\n",
       "    }\n",
       "\n",
       "    .dataframe tbody tr th {\n",
       "        vertical-align: top;\n",
       "    }\n",
       "\n",
       "    .dataframe thead th {\n",
       "        text-align: right;\n",
       "    }\n",
       "</style>\n",
       "<table border=\"1\" class=\"dataframe\">\n",
       "  <thead>\n",
       "    <tr style=\"text-align: right;\">\n",
       "      <th></th>\n",
       "      <th>FirstName</th>\n",
       "      <th>LastName</th>\n",
       "      <th>At-Bats</th>\n",
       "      <th>Hits</th>\n",
       "      <th>BattingAverage</th>\n",
       "      <th>RemainingAt-Bats</th>\n",
       "      <th>RemainingAverage</th>\n",
       "      <th>SeasonAt-Bats</th>\n",
       "      <th>SeasonHits</th>\n",
       "      <th>SeasonAverage</th>\n",
       "    </tr>\n",
       "  </thead>\n",
       "  <tbody>\n",
       "    <tr>\n",
       "      <th>0</th>\n",
       "      <td>Roberto</td>\n",
       "      <td>Clemente</td>\n",
       "      <td>45</td>\n",
       "      <td>18</td>\n",
       "      <td>0.400</td>\n",
       "      <td>367</td>\n",
       "      <td>0.3460</td>\n",
       "      <td>412</td>\n",
       "      <td>145</td>\n",
       "      <td>0.352</td>\n",
       "    </tr>\n",
       "    <tr>\n",
       "      <th>1</th>\n",
       "      <td>Frank</td>\n",
       "      <td>Robinson</td>\n",
       "      <td>45</td>\n",
       "      <td>17</td>\n",
       "      <td>0.378</td>\n",
       "      <td>426</td>\n",
       "      <td>0.2981</td>\n",
       "      <td>471</td>\n",
       "      <td>144</td>\n",
       "      <td>0.306</td>\n",
       "    </tr>\n",
       "    <tr>\n",
       "      <th>2</th>\n",
       "      <td>Frank</td>\n",
       "      <td>Howard</td>\n",
       "      <td>45</td>\n",
       "      <td>16</td>\n",
       "      <td>0.356</td>\n",
       "      <td>521</td>\n",
       "      <td>0.2764</td>\n",
       "      <td>566</td>\n",
       "      <td>160</td>\n",
       "      <td>0.283</td>\n",
       "    </tr>\n",
       "    <tr>\n",
       "      <th>3</th>\n",
       "      <td>Jay</td>\n",
       "      <td>Johnstone</td>\n",
       "      <td>45</td>\n",
       "      <td>15</td>\n",
       "      <td>0.333</td>\n",
       "      <td>275</td>\n",
       "      <td>0.2218</td>\n",
       "      <td>320</td>\n",
       "      <td>76</td>\n",
       "      <td>0.238</td>\n",
       "    </tr>\n",
       "    <tr>\n",
       "      <th>4</th>\n",
       "      <td>Ken</td>\n",
       "      <td>Berry</td>\n",
       "      <td>45</td>\n",
       "      <td>14</td>\n",
       "      <td>0.311</td>\n",
       "      <td>418</td>\n",
       "      <td>0.2727</td>\n",
       "      <td>463</td>\n",
       "      <td>128</td>\n",
       "      <td>0.276</td>\n",
       "    </tr>\n",
       "  </tbody>\n",
       "</table>\n",
       "</div>"
      ],
      "text/plain": [
       "  FirstName   LastName  At-Bats  Hits  BattingAverage  RemainingAt-Bats  \\\n",
       "0   Roberto   Clemente       45    18           0.400               367   \n",
       "1     Frank   Robinson       45    17           0.378               426   \n",
       "2     Frank     Howard       45    16           0.356               521   \n",
       "3       Jay  Johnstone       45    15           0.333               275   \n",
       "4       Ken      Berry       45    14           0.311               418   \n",
       "\n",
       "   RemainingAverage  SeasonAt-Bats  SeasonHits  SeasonAverage  \n",
       "0            0.3460            412         145          0.352  \n",
       "1            0.2981            471         144          0.306  \n",
       "2            0.2764            566         160          0.283  \n",
       "3            0.2218            320          76          0.238  \n",
       "4            0.2727            463         128          0.276  "
      ]
     },
     "execution_count": 4,
     "metadata": {},
     "output_type": "execute_result"
    }
   ],
   "source": [
    "pyro.enable_validation(True)\n",
    "DATA_URL = 'https://d2fefpcigoriu7.cloudfront.net/datasets/EfronMorrisBB.txt'\n",
    "data = pd.read_csv(DATA_URL, '\\t')\n",
    "data.head()"
   ]
  },
  {
   "cell_type": "code",
   "execution_count": 7,
   "metadata": {},
   "outputs": [
    {
     "data": {
      "text/plain": [
       "(18, 10)"
      ]
     },
     "execution_count": 7,
     "metadata": {},
     "output_type": "execute_result"
    }
   ],
   "source": [
    "data.shape"
   ]
  },
  {
   "cell_type": "code",
   "execution_count": 6,
   "metadata": {},
   "outputs": [
    {
     "data": {
      "image/png": "[encoded data removed]",
      "text/plain": [
       "<Figure size 576x396 with 1 Axes>"
      ]
     },
     "metadata": {},
     "output_type": "display_data"
    },
    {
     "data": {
      "image/png": "[encoded data removed]",
      "text/plain": [
       "<Figure size 576x396 with 1 Axes>"
      ]
     },
     "metadata": {},
     "output_type": "display_data"
    },
    {
     "data": {
      "image/png": "[encoded data removed]",
      "text/plain": [
       "<Figure size 576x396 with 1 Axes>"
      ]
     },
     "metadata": {},
     "output_type": "display_data"
    }
   ],
   "source": [
    "data['BattingAverage'].plot.bar()\n",
    "plt.show()\n",
    "data['RemainingAverage'].plot.bar()\n",
    "plt.show()\n",
    "data['SeasonAverage'].plot.bar()\n",
    "plt.show()"
   ]
  },
  {
   "cell_type": "code",
   "execution_count": 8,
   "metadata": {},
   "outputs": [],
   "source": [
    "def train_test_split(data):\n",
    "    train_data = torch.tensor(data[['At-Bats', 'Hits']].values, dtype=torch.float)\n",
    "    test_data = torch.tensor(data[['SeasonAt-Bats', 'SeasonHits']].values, dtype=torch.float)\n",
    "    player_names = data['FirstName'] + ' ' + data['LastName']\n",
    "    return train_data, test_data, player_names.values"
   ]
  },
  {
   "cell_type": "code",
   "execution_count": 9,
   "metadata": {},
   "outputs": [],
   "source": [
    "train, _, player_names = train_test_split(data)\n",
    "at_bats, hits = train[:, 0], train[:, 1]"
   ]
  },
  {
   "cell_type": "code",
   "execution_count": 10,
   "metadata": {},
   "outputs": [
    {
     "data": {
      "text/plain": [
       "Index(['FirstName', 'LastName', 'At-Bats', 'Hits', 'BattingAverage',\n",
       "       'RemainingAt-Bats', 'RemainingAverage', 'SeasonAt-Bats', 'SeasonHits',\n",
       "       'SeasonAverage'],\n",
       "      dtype='object')"
      ]
     },
     "execution_count": 10,
     "metadata": {},
     "output_type": "execute_result"
    }
   ],
   "source": [
    "data.columns"
   ]
  },
  {
   "cell_type": "code",
   "execution_count": 11,
   "metadata": {},
   "outputs": [
    {
     "data": {
      "text/plain": [
       "<seaborn.axisgrid.PairGrid at 0x1a2ada1cc0>"
      ]
     },
     "execution_count": 11,
     "metadata": {},
     "output_type": "execute_result"
    },
    {
     "data": {
      "image/png": "[encoded data removed]",
      "text/plain": [
       "<Figure size 1440x1440 with 72 Axes>"
      ]
     },
     "metadata": {},
     "output_type": "display_data"
    }
   ],
   "source": [
    "sns.pairplot(data[['At-Bats', 'Hits', 'BattingAverage', \n",
    "                   'RemainingAt-Bats', 'RemainingAverage',\n",
    "                   'SeasonAt-Bats', 'SeasonHits', 'SeasonAverage']])"
   ]
  },
  {
   "cell_type": "code",
   "execution_count": 12,
   "metadata": {},
   "outputs": [],
   "source": [
    "def fully_pooled(at_bats, hits):\n",
    "    phi_prior = Uniform(at_bats.new_tensor(0), at_bats.new_tensor(1))\n",
    "    phi = pyro.sample('phi', phi_prior)\n",
    "    return pyro.sample('obs', Binomial(at_bats, phi), obs=hits)"
   ]
  },
  {
   "cell_type": "code",
   "execution_count": 13,
   "metadata": {},
   "outputs": [],
   "source": [
    "def not_pooled(at_bats, hits):\n",
    "    num_players = at_bats.shape[0]\n",
    "    with pyro.plate('num_players', num_players):\n",
    "        phi_prior = Uniform(at_bats.new_tensor(0), at_bats.new_tensor(1))\n",
    "        phi = pyro.sample('phi', phi_prior)\n",
    "        return pyro.sample('obs', Binomial(at_bats, phi), obs=hits)"
   ]
  },
  {
   "cell_type": "code",
   "execution_count": 14,
   "metadata": {},
   "outputs": [],
   "source": [
    "def partially_pooled(at_bats, hits):\n",
    "    num_players = at_bats.shape[0]\n",
    "    m = pyro.sample('m', Uniform(at_bats.new_tensor(0), at_bats.new_tensor(1)))\n",
    "    kappa = pyro.sample('kappa',\n",
    "                        Pareto(at_bats.new_tensor(1), at_bats.new_tensor(1.5)))\n",
    "    with pyro.plate('num_players', num_players):\n",
    "        phi_prior = Beta(m*kappa, (1-m)*kappa)\n",
    "        phi = pyro.sample('phi', phi_prior)\n",
    "        return pyro.sample('obs', Binomial(at_bats, phi), obs=hits)"
   ]
  },
  {
   "cell_type": "code",
   "execution_count": 15,
   "metadata": {},
   "outputs": [],
   "source": [
    "def partially_pooled_with_logit(at_bats, hits):\n",
    "    num_players = at_bats.shape[0]\n",
    "    loc = pyro.sample('loc', Normal(at_bats.new_tensor(-1), at_bats.new_tensor(1)))\n",
    "    scale = pyro.sample('scale', HalfCauchy(scale=at_bats.new_tensor(1)))\n",
    "    with pyro.plate('num_players', num_players):\n",
    "        alpha = pyro.sample('alpha', Normal(loc, scale))\n",
    "        return pyro.sample('obs', Binomial(at_bats, logits=alpha), obs=hits)"
   ]
  },
  {
   "cell_type": "code",
   "execution_count": 25,
   "metadata": {},
   "outputs": [],
   "source": [
    "def get_site_stats(array, player_names):\n",
    "    if len(array.shape) == 1:\n",
    "        df = pd.DataFrame(array).transpose()\n",
    "    else:\n",
    "        df = pd.DataFrame(array, columns=player_names).transpose()\n",
    "    return df.apply(pd.Series.describe, axis=1)[['mean', 'std', '25%', '50%', '75%']]\n",
    "\n",
    "\n",
    "def summary(trace_posterior, sites, player_names, transforms={}, diagnostics=True):\n",
    "    marginal = trace_posterior.marginal(sites)\n",
    "    site_stats = {}\n",
    "    for site_name in sites:\n",
    "        marginal_site = marginal.support(flatten=True)[site_name]\n",
    "        if site_name in transforms:\n",
    "            marginal_site = transforms[site_name](marginal_site)\n",
    "        \n",
    "        site_stats[site_name] = get_site_stats(marginal_site.numpy(), player_names)\n",
    "        if diagnostics and trace_posterior.num_chains > 1:\n",
    "            diag = marginal.diagnostics()[site_name]\n",
    "            site_stats[site_name] = site_stats[site_name].assign(\n",
    "                n_eff=diag['n_eff'].numpy(), r_hat=diag['r_hat'].numpy())\n",
    "    return site_stats"
   ]
  },
  {
   "cell_type": "code",
   "execution_count": 17,
   "metadata": {},
   "outputs": [],
   "source": [
    "def sample_posterior_predictive(posterior_predictive, data):\n",
    "    train, test, player_names = train_test_split(data)\n",
    "    at_bats = train[:, 0]\n",
    "    at_bats_season = test[:, 0]\n",
    "    logging.Formatter('%(message)s')\n",
    "    logging.info('\\nPosterior Predictive:')\n",
    "    logging.info('Hit Rate - Initial 45 At Bats')\n",
    "    logging.info('--------------------------')\n",
    "    train_predict = posterior_predictive.run(at_bats, None)\n",
    "    train_summary = summary(train_predict, sites=['obs'],\n",
    "                            player_names=player_names, diagnostics=False)['obs']\n",
    "    train_summary = train_summary.assign(ActualHits=data[['Hits']].values)\n",
    "    logging.info(train_summary)\n",
    "    logging.info('\\nHit Rate - Season Predictions')\n",
    "    logging.info('--------------------------')\n",
    "    test_predict = posterior_predictive.run(at_bats_season, None)\n",
    "    test_summary = summary(test_predict, sites=['obs'],\n",
    "                           player_names=player_names, diagnostics=False)['obs']\n",
    "    test_summary = test_summary.assign(ActualHits=data[['SeasonHits']].values)\n",
    "    logging.info(test_summary)\n",
    "    \n",
    "\n",
    "def evaluate_log_predictive_density(posterior_predictive, data):\n",
    "    _, test, player_names = train_test_split(data)\n",
    "    at_bats_season, hits_season = test[:, 0], test[:, 1]\n",
    "    test_eval = posterior_predictive.run(at_bats_season, hits_season)\n",
    "    trace_log_pdf = []\n",
    "    for tr in test_eval.exec_traces:\n",
    "        trace_log_pdf.append(tr.log_prob_sum())\n",
    "    posterior_pred_density = logsumexp(torch.stack(trace_log_pdf), dim=-1) - \\\n",
    "        math.log(len(trace_log_pdf))\n",
    "    logging.info('\\nLog posterior predictive density')\n",
    "    logging.info('--------------------------')\n",
    "    logging.info('{:.4f}\\n'.format(posterior_pred_density))"
   ]
  },
  {
   "cell_type": "code",
   "execution_count": 18,
   "metadata": {},
   "outputs": [],
   "source": [
    "num_samples = 200\n",
    "num_chains = 3\n",
    "warmup_steps = 100\n",
    "\n",
    "num_predictive_samples = num_samples * num_chains"
   ]
  },
  {
   "cell_type": "code",
   "execution_count": 19,
   "metadata": {},
   "outputs": [],
   "source": [
    "rng_seed = 52\n",
    "pyro.set_rng_seed(rng_seed)"
   ]
  },
  {
   "cell_type": "code",
   "execution_count": 21,
   "metadata": {},
   "outputs": [
    {
     "data": {
      "application/vnd.jupyter.widget-view+json": {
       "model_id": "d6c3ee0209b6402dacd4d86c55470326",
       "version_major": 2,
       "version_minor": 0
      },
      "text/html": [
       "<p>Failed to display Jupyter Widget of type <code>HBox</code>.</p>\n",
       "<p>\n",
       "  If you're reading this message in the Jupyter Notebook or JupyterLab Notebook, it may mean\n",
       "  that the widgets JavaScript is still loading. If this message persists, it\n",
       "  likely means that the widgets JavaScript library is either not installed or\n",
       "  not enabled. See the <a href=\"https://ipywidgets.readthedocs.io/en/stable/user_install.html\">Jupyter\n",
       "  Widgets Documentation</a> for setup instructions.\n",
       "</p>\n",
       "<p>\n",
       "  If you're reading this message in another frontend (for example, a static\n",
       "  rendering on GitHub or <a href=\"https://nbviewer.jupyter.org/\">NBViewer</a>),\n",
       "  it may mean that your frontend doesn't currently support widgets.\n",
       "</p>\n"
      ],
      "text/plain": [
       "HBox(children=(IntProgress(value=0, description='Warmup [1]', max=300, style=ProgressStyle(description_width='initial')), HTML(value='')))"
      ]
     },
     "metadata": {},
     "output_type": "display_data"
    },
    {
     "data": {
      "application/vnd.jupyter.widget-view+json": {
       "model_id": "251114042d8a486cbf81fc52f99481df",
       "version_major": 2,
       "version_minor": 0
      },
      "text/html": [
       "<p>Failed to display Jupyter Widget of type <code>HBox</code>.</p>\n",
       "<p>\n",
       "  If you're reading this message in the Jupyter Notebook or JupyterLab Notebook, it may mean\n",
       "  that the widgets JavaScript is still loading. If this message persists, it\n",
       "  likely means that the widgets JavaScript library is either not installed or\n",
       "  not enabled. See the <a href=\"https://ipywidgets.readthedocs.io/en/stable/user_install.html\">Jupyter\n",
       "  Widgets Documentation</a> for setup instructions.\n",
       "</p>\n",
       "<p>\n",
       "  If you're reading this message in another frontend (for example, a static\n",
       "  rendering on GitHub or <a href=\"https://nbviewer.jupyter.org/\">NBViewer</a>),\n",
       "  it may mean that your frontend doesn't currently support widgets.\n",
       "</p>\n"
      ],
      "text/plain": [
       "HBox(children=(IntProgress(value=0, description='Warmup [2]', max=300, style=ProgressStyle(description_width='initial')), HTML(value='')))"
      ]
     },
     "metadata": {},
     "output_type": "display_data"
    },
    {
     "data": {
      "application/vnd.jupyter.widget-view+json": {
       "model_id": "d108e3d40994402a8bab6b7113a33118",
       "version_major": 2,
       "version_minor": 0
      },
      "text/html": [
       "<p>Failed to display Jupyter Widget of type <code>HBox</code>.</p>\n",
       "<p>\n",
       "  If you're reading this message in the Jupyter Notebook or JupyterLab Notebook, it may mean\n",
       "  that the widgets JavaScript is still loading. If this message persists, it\n",
       "  likely means that the widgets JavaScript library is either not installed or\n",
       "  not enabled. See the <a href=\"https://ipywidgets.readthedocs.io/en/stable/user_install.html\">Jupyter\n",
       "  Widgets Documentation</a> for setup instructions.\n",
       "</p>\n",
       "<p>\n",
       "  If you're reading this message in another frontend (for example, a static\n",
       "  rendering on GitHub or <a href=\"https://nbviewer.jupyter.org/\">NBViewer</a>),\n",
       "  it may mean that your frontend doesn't currently support widgets.\n",
       "</p>\n"
      ],
      "text/plain": [
       "HBox(children=(IntProgress(value=0, description='Warmup [3]', max=300, style=ProgressStyle(description_width='initial')), HTML(value='')))"
      ]
     },
     "metadata": {},
     "output_type": "display_data"
    },
    {
     "name": "stderr",
     "output_type": "stream",
     "text": [
      "\n",
      "Model: Fully Pooled\n",
      "========================\n",
      "\n",
      "phi:\n",
      "       mean       std       25%       50%       75%       n_eff     r_hat\n",
      "0  0.267115  0.015634  0.254908  0.267284  0.278384  282.003448  1.012708\n",
      "\n",
      "Posterior Predictive:\n",
      "Hit Rate - Initial 45 At Bats\n",
      "--------------------------\n",
      "                  mean  std   25%   50%   75%  ActualHits\n",
      "Roberto Clemente  18.0  0.0  18.0  18.0  18.0          18\n",
      "Frank Robinson    17.0  0.0  17.0  17.0  17.0          17\n",
      "Frank Howard      16.0  0.0  16.0  16.0  16.0          16\n",
      "Jay Johnstone     15.0  0.0  15.0  15.0  15.0          15\n",
      "Ken Berry         14.0  0.0  14.0  14.0  14.0          14\n",
      "Jim Spencer       14.0  0.0  14.0  14.0  14.0          14\n",
      "Don Kessinger     13.0  0.0  13.0  13.0  13.0          13\n",
      "Luis Alvarado     12.0  0.0  12.0  12.0  12.0          12\n",
      "Ron Santo         11.0  0.0  11.0  11.0  11.0          11\n",
      "Ron Swaboda       11.0  0.0  11.0  11.0  11.0          11\n",
      "Rico Petrocelli   10.0  0.0  10.0  10.0  10.0          10\n",
      "Ellie Rodriguez   10.0  0.0  10.0  10.0  10.0          10\n",
      "George Scott      10.0  0.0  10.0  10.0  10.0          10\n",
      "Del Unser         10.0  0.0  10.0  10.0  10.0          10\n",
      "Billy Williams    10.0  0.0  10.0  10.0  10.0          10\n",
      "Bert Campaneris    9.0  0.0   9.0   9.0   9.0           9\n",
      "Thurman Munson     8.0  0.0   8.0   8.0   8.0           8\n",
      "Max Alvis          7.0  0.0   7.0   7.0   7.0           7\n",
      "\n",
      "Hit Rate - Season Predictions\n",
      "--------------------------\n",
      "                  mean  std   25%   50%   75%  ActualHits\n",
      "Roberto Clemente  18.0  0.0  18.0  18.0  18.0         145\n",
      "Frank Robinson    17.0  0.0  17.0  17.0  17.0         144\n",
      "Frank Howard      16.0  0.0  16.0  16.0  16.0         160\n",
      "Jay Johnstone     15.0  0.0  15.0  15.0  15.0          76\n",
      "Ken Berry         14.0  0.0  14.0  14.0  14.0         128\n",
      "Jim Spencer       14.0  0.0  14.0  14.0  14.0         140\n",
      "Don Kessinger     13.0  0.0  13.0  13.0  13.0         168\n",
      "Luis Alvarado     12.0  0.0  12.0  12.0  12.0          41\n",
      "Ron Santo         11.0  0.0  11.0  11.0  11.0         148\n",
      "Ron Swaboda       11.0  0.0  11.0  11.0  11.0          57\n",
      "Rico Petrocelli   10.0  0.0  10.0  10.0  10.0         152\n",
      "Ellie Rodriguez   10.0  0.0  10.0  10.0  10.0          52\n",
      "George Scott      10.0  0.0  10.0  10.0  10.0         142\n",
      "Del Unser         10.0  0.0  10.0  10.0  10.0          83\n",
      "Billy Williams    10.0  0.0  10.0  10.0  10.0         205\n",
      "Bert Campaneris    9.0  0.0   9.0   9.0   9.0         168\n",
      "Thurman Munson     8.0  0.0   8.0   8.0   8.0         137\n",
      "Max Alvis          7.0  0.0   7.0   7.0   7.0          21\n",
      "\n",
      "Log posterior predictive density\n",
      "--------------------------\n",
      "-77.0128\n",
      "\n"
     ]
    }
   ],
   "source": [
    "nuts_kernel = NUTS(fully_pooled)\n",
    "posterior_fully_pooled = MCMC(nuts_kernel,\n",
    "                              num_samples=num_samples,\n",
    "                              warmup_steps=warmup_steps,\n",
    "                              num_chains=num_chains).run(at_bats, hits)\n",
    "logging.info('\\nModel: Fully Pooled')\n",
    "logging.info('========================')\n",
    "logging.info('\\nphi:')\n",
    "logging.info(summary(posterior_fully_pooled,\n",
    "                     sites=['phi'],\n",
    "                     player_names=player_names)['phi'])\n",
    "posterior_predictive = TracePredictive(fully_pooled,\n",
    "                                       posterior_fully_pooled,\n",
    "                                       num_samples=num_predictive_samples)\n",
    "sample_posterior_predictive(posterior_predictive, data)\n",
    "evaluate_log_predictive_density(posterior_predictive, data)"
   ]
  },
  {
   "cell_type": "code",
   "execution_count": 22,
   "metadata": {
    "scrolled": false
   },
   "outputs": [
    {
     "data": {
      "application/vnd.jupyter.widget-view+json": {
       "model_id": "722e6554b7e64379824d3f02fd2db094",
       "version_major": 2,
       "version_minor": 0
      },
      "text/html": [
       "<p>Failed to display Jupyter Widget of type <code>HBox</code>.</p>\n",
       "<p>\n",
       "  If you're reading this message in the Jupyter Notebook or JupyterLab Notebook, it may mean\n",
       "  that the widgets JavaScript is still loading. If this message persists, it\n",
       "  likely means that the widgets JavaScript library is either not installed or\n",
       "  not enabled. See the <a href=\"https://ipywidgets.readthedocs.io/en/stable/user_install.html\">Jupyter\n",
       "  Widgets Documentation</a> for setup instructions.\n",
       "</p>\n",
       "<p>\n",
       "  If you're reading this message in another frontend (for example, a static\n",
       "  rendering on GitHub or <a href=\"https://nbviewer.jupyter.org/\">NBViewer</a>),\n",
       "  it may mean that your frontend doesn't currently support widgets.\n",
       "</p>\n"
      ],
      "text/plain": [
       "HBox(children=(IntProgress(value=0, description='Warmup [1]', max=300, style=ProgressStyle(description_width='initial')), HTML(value='')))"
      ]
     },
     "metadata": {},
     "output_type": "display_data"
    },
    {
     "data": {
      "application/vnd.jupyter.widget-view+json": {
       "model_id": "07fa557a31804c3eb44bbaa63721920f",
       "version_major": 2,
       "version_minor": 0
      },
      "text/html": [
       "<p>Failed to display Jupyter Widget of type <code>HBox</code>.</p>\n",
       "<p>\n",
       "  If you're reading this message in the Jupyter Notebook or JupyterLab Notebook, it may mean\n",
       "  that the widgets JavaScript is still loading. If this message persists, it\n",
       "  likely means that the widgets JavaScript library is either not installed or\n",
       "  not enabled. See the <a href=\"https://ipywidgets.readthedocs.io/en/stable/user_install.html\">Jupyter\n",
       "  Widgets Documentation</a> for setup instructions.\n",
       "</p>\n",
       "<p>\n",
       "  If you're reading this message in another frontend (for example, a static\n",
       "  rendering on GitHub or <a href=\"https://nbviewer.jupyter.org/\">NBViewer</a>),\n",
       "  it may mean that your frontend doesn't currently support widgets.\n",
       "</p>\n"
      ],
      "text/plain": [
       "HBox(children=(IntProgress(value=0, description='Warmup [2]', max=300, style=ProgressStyle(description_width='initial')), HTML(value='')))"
      ]
     },
     "metadata": {},
     "output_type": "display_data"
    },
    {
     "data": {
      "application/vnd.jupyter.widget-view+json": {
       "model_id": "096d8ed174b444b89f514aa36ee68ef1",
       "version_major": 2,
       "version_minor": 0
      },
      "text/html": [
       "<p>Failed to display Jupyter Widget of type <code>HBox</code>.</p>\n",
       "<p>\n",
       "  If you're reading this message in the Jupyter Notebook or JupyterLab Notebook, it may mean\n",
       "  that the widgets JavaScript is still loading. If this message persists, it\n",
       "  likely means that the widgets JavaScript library is either not installed or\n",
       "  not enabled. See the <a href=\"https://ipywidgets.readthedocs.io/en/stable/user_install.html\">Jupyter\n",
       "  Widgets Documentation</a> for setup instructions.\n",
       "</p>\n",
       "<p>\n",
       "  If you're reading this message in another frontend (for example, a static\n",
       "  rendering on GitHub or <a href=\"https://nbviewer.jupyter.org/\">NBViewer</a>),\n",
       "  it may mean that your frontend doesn't currently support widgets.\n",
       "</p>\n"
      ],
      "text/plain": [
       "HBox(children=(IntProgress(value=0, description='Warmup [3]', max=300, style=ProgressStyle(description_width='initial')), HTML(value='')))"
      ]
     },
     "metadata": {},
     "output_type": "display_data"
    },
    {
     "name": "stderr",
     "output_type": "stream",
     "text": [
      "\n",
      "Model: Not Pooled\n",
      "========================\n",
      "\n",
      "phi:\n",
      "                      mean       std       25%       50%       75%  \\\n",
      "Roberto Clemente  0.399943  0.075035  0.346843  0.396658  0.452164   \n",
      "Frank Robinson    0.380921  0.070193  0.334455  0.375778  0.428543   \n",
      "Frank Howard      0.362561  0.071634  0.312462  0.358348  0.413378   \n",
      "Jay Johnstone     0.336355  0.071878  0.289077  0.329880  0.382827   \n",
      "Ken Berry         0.314747  0.065654  0.270413  0.310458  0.356329   \n",
      "Jim Spencer       0.315158  0.062964  0.268278  0.311988  0.358840   \n",
      "Don Kessinger     0.301659  0.068475  0.252892  0.298465  0.349038   \n",
      "Luis Alvarado     0.283721  0.062200  0.239647  0.282782  0.324852   \n",
      "Ron Santo         0.258056  0.059806  0.215130  0.255764  0.297286   \n",
      "Ron Swaboda       0.256684  0.067631  0.208116  0.255430  0.299480   \n",
      "Rico Petrocelli   0.229894  0.059704  0.186203  0.224607  0.270622   \n",
      "Ellie Rodriguez   0.236017  0.057246  0.191330  0.234975  0.274804   \n",
      "George Scott      0.234043  0.059666  0.190660  0.231042  0.274553   \n",
      "Del Unser         0.236534  0.061990  0.193895  0.231431  0.276140   \n",
      "Billy Williams    0.236507  0.057134  0.193631  0.233240  0.275560   \n",
      "Bert Campaneris   0.212033  0.061096  0.168675  0.206219  0.252786   \n",
      "Thurman Munson    0.191130  0.057044  0.146603  0.187605  0.228246   \n",
      "Max Alvis         0.171947  0.054420  0.131149  0.166210  0.210815   \n",
      "\n",
      "                        n_eff     r_hat  \n",
      "Roberto Clemente  1003.780396  0.996561  \n",
      "Frank Robinson    1270.685059  0.996544  \n",
      "Frank Howard       866.168213  0.997555  \n",
      "Jay Johnstone      736.957642  0.997095  \n",
      "Ken Berry          410.107941  1.001117  \n",
      "Jim Spencer        743.290039  0.997749  \n",
      "Don Kessinger      977.817078  0.998231  \n",
      "Luis Alvarado      519.813293  1.000688  \n",
      "Ron Santo          622.951538  0.999810  \n",
      "Ron Swaboda        752.110596  0.998106  \n",
      "Rico Petrocelli    896.272095  0.996533  \n",
      "Ellie Rodriguez    959.486328  0.999227  \n",
      "George Scott       669.835876  0.998112  \n",
      "Del Unser         1209.351074  0.998835  \n",
      "Billy Williams     980.123901  0.995157  \n",
      "Bert Campaneris    817.047729  1.002228  \n",
      "Thurman Munson    1070.754395  0.999830  \n",
      "Max Alvis          666.045898  0.996702  \n",
      "\n",
      "Posterior Predictive:\n",
      "Hit Rate - Initial 45 At Bats\n",
      "--------------------------\n",
      "                  mean  std   25%   50%   75%  ActualHits\n",
      "Roberto Clemente  18.0  0.0  18.0  18.0  18.0          18\n",
      "Frank Robinson    17.0  0.0  17.0  17.0  17.0          17\n",
      "Frank Howard      16.0  0.0  16.0  16.0  16.0          16\n",
      "Jay Johnstone     15.0  0.0  15.0  15.0  15.0          15\n",
      "Ken Berry         14.0  0.0  14.0  14.0  14.0          14\n",
      "Jim Spencer       14.0  0.0  14.0  14.0  14.0          14\n",
      "Don Kessinger     13.0  0.0  13.0  13.0  13.0          13\n",
      "Luis Alvarado     12.0  0.0  12.0  12.0  12.0          12\n",
      "Ron Santo         11.0  0.0  11.0  11.0  11.0          11\n",
      "Ron Swaboda       11.0  0.0  11.0  11.0  11.0          11\n",
      "Rico Petrocelli   10.0  0.0  10.0  10.0  10.0          10\n",
      "Ellie Rodriguez   10.0  0.0  10.0  10.0  10.0          10\n",
      "George Scott      10.0  0.0  10.0  10.0  10.0          10\n",
      "Del Unser         10.0  0.0  10.0  10.0  10.0          10\n",
      "Billy Williams    10.0  0.0  10.0  10.0  10.0          10\n",
      "Bert Campaneris    9.0  0.0   9.0   9.0   9.0           9\n",
      "Thurman Munson     8.0  0.0   8.0   8.0   8.0           8\n",
      "Max Alvis          7.0  0.0   7.0   7.0   7.0           7\n",
      "\n",
      "Hit Rate - Season Predictions\n",
      "--------------------------\n",
      "                  mean  std   25%   50%   75%  ActualHits\n",
      "Roberto Clemente  18.0  0.0  18.0  18.0  18.0         145\n",
      "Frank Robinson    17.0  0.0  17.0  17.0  17.0         144\n",
      "Frank Howard      16.0  0.0  16.0  16.0  16.0         160\n",
      "Jay Johnstone     15.0  0.0  15.0  15.0  15.0          76\n",
      "Ken Berry         14.0  0.0  14.0  14.0  14.0         128\n",
      "Jim Spencer       14.0  0.0  14.0  14.0  14.0         140\n",
      "Don Kessinger     13.0  0.0  13.0  13.0  13.0         168\n",
      "Luis Alvarado     12.0  0.0  12.0  12.0  12.0          41\n",
      "Ron Santo         11.0  0.0  11.0  11.0  11.0         148\n",
      "Ron Swaboda       11.0  0.0  11.0  11.0  11.0          57\n",
      "Rico Petrocelli   10.0  0.0  10.0  10.0  10.0         152\n",
      "Ellie Rodriguez   10.0  0.0  10.0  10.0  10.0          52\n",
      "George Scott      10.0  0.0  10.0  10.0  10.0         142\n",
      "Del Unser         10.0  0.0  10.0  10.0  10.0          83\n",
      "Billy Williams    10.0  0.0  10.0  10.0  10.0         205\n",
      "Bert Campaneris    9.0  0.0   9.0   9.0   9.0         168\n",
      "Thurman Munson     8.0  0.0   8.0   8.0   8.0         137\n",
      "Max Alvis          7.0  0.0   7.0   7.0   7.0          21\n",
      "\n",
      "Log posterior predictive density\n",
      "--------------------------\n",
      "-99.6108\n",
      "\n"
     ]
    }
   ],
   "source": [
    "nuts_kernel = NUTS(not_pooled)\n",
    "posterior_not_pooled = MCMC(nuts_kernel,\n",
    "                            num_samples=num_samples,\n",
    "                            warmup_steps=warmup_steps,\n",
    "                            num_chains=num_chains).run(at_bats, hits)\n",
    "logging.info('\\nModel: Not Pooled')\n",
    "logging.info('========================')\n",
    "logging.info('\\nphi:')\n",
    "logging.info(summary(posterior_not_pooled,\n",
    "                     sites=['phi'],\n",
    "                     player_names=player_names)['phi'])\n",
    "posterior_predictive = TracePredictive(not_pooled,\n",
    "                                       posterior_not_pooled,\n",
    "                                       num_samples=num_predictive_samples)\n",
    "sample_posterior_predictive(posterior_predictive, data)\n",
    "evaluate_log_predictive_density(posterior_predictive, data)"
   ]
  },
  {
   "cell_type": "code",
   "execution_count": 23,
   "metadata": {
    "scrolled": false
   },
   "outputs": [
    {
     "data": {
      "application/vnd.jupyter.widget-view+json": {
       "model_id": "4f2aa6696f3b44eb88eac0a9ce929ea0",
       "version_major": 2,
       "version_minor": 0
      },
      "text/html": [
       "<p>Failed to display Jupyter Widget of type <code>HBox</code>.</p>\n",
       "<p>\n",
       "  If you're reading this message in the Jupyter Notebook or JupyterLab Notebook, it may mean\n",
       "  that the widgets JavaScript is still loading. If this message persists, it\n",
       "  likely means that the widgets JavaScript library is either not installed or\n",
       "  not enabled. See the <a href=\"https://ipywidgets.readthedocs.io/en/stable/user_install.html\">Jupyter\n",
       "  Widgets Documentation</a> for setup instructions.\n",
       "</p>\n",
       "<p>\n",
       "  If you're reading this message in another frontend (for example, a static\n",
       "  rendering on GitHub or <a href=\"https://nbviewer.jupyter.org/\">NBViewer</a>),\n",
       "  it may mean that your frontend doesn't currently support widgets.\n",
       "</p>\n"
      ],
      "text/plain": [
       "HBox(children=(IntProgress(value=0, description='Warmup [1]', max=300, style=ProgressStyle(description_width='initial')), HTML(value='')))"
      ]
     },
     "metadata": {},
     "output_type": "display_data"
    },
    {
     "data": {
      "application/vnd.jupyter.widget-view+json": {
       "model_id": "65b9ed95976f41ea9dd28fa2dd21a28e",
       "version_major": 2,
       "version_minor": 0
      },
      "text/html": [
       "<p>Failed to display Jupyter Widget of type <code>HBox</code>.</p>\n",
       "<p>\n",
       "  If you're reading this message in the Jupyter Notebook or JupyterLab Notebook, it may mean\n",
       "  that the widgets JavaScript is still loading. If this message persists, it\n",
       "  likely means that the widgets JavaScript library is either not installed or\n",
       "  not enabled. See the <a href=\"https://ipywidgets.readthedocs.io/en/stable/user_install.html\">Jupyter\n",
       "  Widgets Documentation</a> for setup instructions.\n",
       "</p>\n",
       "<p>\n",
       "  If you're reading this message in another frontend (for example, a static\n",
       "  rendering on GitHub or <a href=\"https://nbviewer.jupyter.org/\">NBViewer</a>),\n",
       "  it may mean that your frontend doesn't currently support widgets.\n",
       "</p>\n"
      ],
      "text/plain": [
       "HBox(children=(IntProgress(value=0, description='Warmup [2]', max=300, style=ProgressStyle(description_width='initial')), HTML(value='')))"
      ]
     },
     "metadata": {},
     "output_type": "display_data"
    },
    {
     "data": {
      "application/vnd.jupyter.widget-view+json": {
       "model_id": "964bc32c423240b0b2fc079c3d7fa223",
       "version_major": 2,
       "version_minor": 0
      },
      "text/html": [
       "<p>Failed to display Jupyter Widget of type <code>HBox</code>.</p>\n",
       "<p>\n",
       "  If you're reading this message in the Jupyter Notebook or JupyterLab Notebook, it may mean\n",
       "  that the widgets JavaScript is still loading. If this message persists, it\n",
       "  likely means that the widgets JavaScript library is either not installed or\n",
       "  not enabled. See the <a href=\"https://ipywidgets.readthedocs.io/en/stable/user_install.html\">Jupyter\n",
       "  Widgets Documentation</a> for setup instructions.\n",
       "</p>\n",
       "<p>\n",
       "  If you're reading this message in another frontend (for example, a static\n",
       "  rendering on GitHub or <a href=\"https://nbviewer.jupyter.org/\">NBViewer</a>),\n",
       "  it may mean that your frontend doesn't currently support widgets.\n",
       "</p>\n"
      ],
      "text/plain": [
       "HBox(children=(IntProgress(value=0, description='Warmup [3]', max=300, style=ProgressStyle(description_width='initial')), HTML(value='')))"
      ]
     },
     "metadata": {},
     "output_type": "display_data"
    },
    {
     "name": "stderr",
     "output_type": "stream",
     "text": [
      "\n",
      "Model: Partially Pooled\n",
      "========================\n",
      "\n",
      "phi:\n",
      "                      mean       std       25%       50%       75%  \\\n",
      "Roberto Clemente  0.330732  0.056697  0.287433  0.329061  0.367337   \n",
      "Frank Robinson    0.318623  0.053476  0.281985  0.313461  0.349818   \n",
      "Frank Howard      0.312894  0.053505  0.274333  0.307558  0.347047   \n",
      "Jay Johnstone     0.295636  0.050027  0.261132  0.291267  0.324851   \n",
      "Ken Berry         0.288313  0.046968  0.256531  0.284000  0.318049   \n",
      "Jim Spencer       0.287504  0.045141  0.256558  0.284777  0.318844   \n",
      "Don Kessinger     0.278573  0.048426  0.246480  0.277425  0.309384   \n",
      "Luis Alvarado     0.266445  0.045962  0.236697  0.264992  0.295940   \n",
      "Ron Santo         0.259523  0.047678  0.228490  0.259872  0.289555   \n",
      "Ron Swaboda       0.259049  0.046129  0.228279  0.256043  0.290896   \n",
      "Rico Petrocelli   0.246646  0.045131  0.216728  0.246783  0.272855   \n",
      "Ellie Rodriguez   0.244179  0.048296  0.213908  0.244600  0.277833   \n",
      "George Scott      0.249798  0.044556  0.220636  0.249137  0.280757   \n",
      "Del Unser         0.245764  0.041945  0.217120  0.245693  0.273705   \n",
      "Billy Williams    0.248844  0.043270  0.220262  0.249451  0.277614   \n",
      "Bert Campaneris   0.234063  0.045807  0.203822  0.234369  0.263453   \n",
      "Thurman Munson    0.226682  0.046412  0.198276  0.225546  0.260829   \n",
      "Max Alvis         0.215490  0.043255  0.185727  0.214943  0.244984   \n",
      "\n",
      "                       n_eff     r_hat  \n",
      "Roberto Clemente  253.130539  1.008639  \n",
      "Frank Robinson    323.544739  1.004020  \n",
      "Frank Howard      204.892624  1.005832  \n",
      "Jay Johnstone     420.689636  1.014933  \n",
      "Ken Berry         540.995544  1.005918  \n",
      "Jim Spencer       361.584869  1.021570  \n",
      "Don Kessinger     544.825867  1.002926  \n",
      "Luis Alvarado     400.020935  1.003754  \n",
      "Ron Santo         464.776886  0.997998  \n",
      "Ron Swaboda       469.207611  1.003618  \n",
      "Rico Petrocelli   444.353638  1.004025  \n",
      "Ellie Rodriguez   478.459412  1.004003  \n",
      "George Scott      487.103058  0.999369  \n",
      "Del Unser         572.795837  1.002674  \n",
      "Billy Williams    477.580414  1.000619  \n",
      "Bert Campaneris   319.119110  1.006408  \n",
      "Thurman Munson    258.937897  1.010476  \n",
      "Max Alvis         406.228241  1.008355  \n",
      "\n",
      "Posterior Predictive:\n",
      "Hit Rate - Initial 45 At Bats\n",
      "--------------------------\n",
      "                  mean  std   25%   50%   75%  ActualHits\n",
      "Roberto Clemente  18.0  0.0  18.0  18.0  18.0          18\n",
      "Frank Robinson    17.0  0.0  17.0  17.0  17.0          17\n",
      "Frank Howard      16.0  0.0  16.0  16.0  16.0          16\n",
      "Jay Johnstone     15.0  0.0  15.0  15.0  15.0          15\n",
      "Ken Berry         14.0  0.0  14.0  14.0  14.0          14\n",
      "Jim Spencer       14.0  0.0  14.0  14.0  14.0          14\n",
      "Don Kessinger     13.0  0.0  13.0  13.0  13.0          13\n",
      "Luis Alvarado     12.0  0.0  12.0  12.0  12.0          12\n",
      "Ron Santo         11.0  0.0  11.0  11.0  11.0          11\n",
      "Ron Swaboda       11.0  0.0  11.0  11.0  11.0          11\n",
      "Rico Petrocelli   10.0  0.0  10.0  10.0  10.0          10\n",
      "Ellie Rodriguez   10.0  0.0  10.0  10.0  10.0          10\n",
      "George Scott      10.0  0.0  10.0  10.0  10.0          10\n",
      "Del Unser         10.0  0.0  10.0  10.0  10.0          10\n",
      "Billy Williams    10.0  0.0  10.0  10.0  10.0          10\n",
      "Bert Campaneris    9.0  0.0   9.0   9.0   9.0           9\n",
      "Thurman Munson     8.0  0.0   8.0   8.0   8.0           8\n",
      "Max Alvis          7.0  0.0   7.0   7.0   7.0           7\n",
      "\n",
      "Hit Rate - Season Predictions\n",
      "--------------------------\n",
      "                  mean  std   25%   50%   75%  ActualHits\n",
      "Roberto Clemente  18.0  0.0  18.0  18.0  18.0         145\n",
      "Frank Robinson    17.0  0.0  17.0  17.0  17.0         144\n",
      "Frank Howard      16.0  0.0  16.0  16.0  16.0         160\n",
      "Jay Johnstone     15.0  0.0  15.0  15.0  15.0          76\n",
      "Ken Berry         14.0  0.0  14.0  14.0  14.0         128\n",
      "Jim Spencer       14.0  0.0  14.0  14.0  14.0         140\n",
      "Don Kessinger     13.0  0.0  13.0  13.0  13.0         168\n",
      "Luis Alvarado     12.0  0.0  12.0  12.0  12.0          41\n",
      "Ron Santo         11.0  0.0  11.0  11.0  11.0         148\n",
      "Ron Swaboda       11.0  0.0  11.0  11.0  11.0          57\n",
      "Rico Petrocelli   10.0  0.0  10.0  10.0  10.0         152\n",
      "Ellie Rodriguez   10.0  0.0  10.0  10.0  10.0          52\n",
      "George Scott      10.0  0.0  10.0  10.0  10.0         142\n",
      "Del Unser         10.0  0.0  10.0  10.0  10.0          83\n",
      "Billy Williams    10.0  0.0  10.0  10.0  10.0         205\n",
      "Bert Campaneris    9.0  0.0   9.0   9.0   9.0         168\n",
      "Thurman Munson     8.0  0.0   8.0   8.0   8.0         137\n",
      "Max Alvis          7.0  0.0   7.0   7.0   7.0          21\n",
      "\n",
      "Log posterior predictive density\n",
      "--------------------------\n",
      "-46.9007\n",
      "\n"
     ]
    }
   ],
   "source": [
    "nuts_kernel = NUTS(partially_pooled)\n",
    "posterior_partially_pooled = MCMC(nuts_kernel,\n",
    "                                  num_samples=num_samples,\n",
    "                                  warmup_steps=warmup_steps,\n",
    "                                  num_chains=num_chains).run(at_bats, hits)\n",
    "logging.info('\\nModel: Partially Pooled')\n",
    "logging.info('========================')\n",
    "logging.info('\\nphi:')\n",
    "logging.info(summary(posterior_partially_pooled,\n",
    "                     sites=['phi'],\n",
    "                     player_names=player_names)['phi'])\n",
    "posterior_predictive = TracePredictive(partially_pooled,\n",
    "                                       posterior_partially_pooled,\n",
    "                                       num_samples=num_predictive_samples)\n",
    "sample_posterior_predictive(posterior_predictive, data)\n",
    "evaluate_log_predictive_density(posterior_predictive, data)"
   ]
  },
  {
   "cell_type": "code",
   "execution_count": 26,
   "metadata": {
    "scrolled": false
   },
   "outputs": [
    {
     "data": {
      "application/vnd.jupyter.widget-view+json": {
       "model_id": "3149ecf646414a95bae6571919352015",
       "version_major": 2,
       "version_minor": 0
      },
      "text/html": [
       "<p>Failed to display Jupyter Widget of type <code>HBox</code>.</p>\n",
       "<p>\n",
       "  If you're reading this message in the Jupyter Notebook or JupyterLab Notebook, it may mean\n",
       "  that the widgets JavaScript is still loading. If this message persists, it\n",
       "  likely means that the widgets JavaScript library is either not installed or\n",
       "  not enabled. See the <a href=\"https://ipywidgets.readthedocs.io/en/stable/user_install.html\">Jupyter\n",
       "  Widgets Documentation</a> for setup instructions.\n",
       "</p>\n",
       "<p>\n",
       "  If you're reading this message in another frontend (for example, a static\n",
       "  rendering on GitHub or <a href=\"https://nbviewer.jupyter.org/\">NBViewer</a>),\n",
       "  it may mean that your frontend doesn't currently support widgets.\n",
       "</p>\n"
      ],
      "text/plain": [
       "HBox(children=(IntProgress(value=0, description='Warmup [1]', max=300, style=ProgressStyle(description_width='initial')), HTML(value='')))"
      ]
     },
     "metadata": {},
     "output_type": "display_data"
    },
    {
     "data": {
      "application/vnd.jupyter.widget-view+json": {
       "model_id": "10950297a3b4410faa70a8df34889cd5",
       "version_major": 2,
       "version_minor": 0
      },
      "text/html": [
       "<p>Failed to display Jupyter Widget of type <code>HBox</code>.</p>\n",
       "<p>\n",
       "  If you're reading this message in the Jupyter Notebook or JupyterLab Notebook, it may mean\n",
       "  that the widgets JavaScript is still loading. If this message persists, it\n",
       "  likely means that the widgets JavaScript library is either not installed or\n",
       "  not enabled. See the <a href=\"https://ipywidgets.readthedocs.io/en/stable/user_install.html\">Jupyter\n",
       "  Widgets Documentation</a> for setup instructions.\n",
       "</p>\n",
       "<p>\n",
       "  If you're reading this message in another frontend (for example, a static\n",
       "  rendering on GitHub or <a href=\"https://nbviewer.jupyter.org/\">NBViewer</a>),\n",
       "  it may mean that your frontend doesn't currently support widgets.\n",
       "</p>\n"
      ],
      "text/plain": [
       "HBox(children=(IntProgress(value=0, description='Warmup [2]', max=300, style=ProgressStyle(description_width='initial')), HTML(value='')))"
      ]
     },
     "metadata": {},
     "output_type": "display_data"
    },
    {
     "data": {
      "application/vnd.jupyter.widget-view+json": {
       "model_id": "6929e5011f2144ef927820113d0c7856",
       "version_major": 2,
       "version_minor": 0
      },
      "text/html": [
       "<p>Failed to display Jupyter Widget of type <code>HBox</code>.</p>\n",
       "<p>\n",
       "  If you're reading this message in the Jupyter Notebook or JupyterLab Notebook, it may mean\n",
       "  that the widgets JavaScript is still loading. If this message persists, it\n",
       "  likely means that the widgets JavaScript library is either not installed or\n",
       "  not enabled. See the <a href=\"https://ipywidgets.readthedocs.io/en/stable/user_install.html\">Jupyter\n",
       "  Widgets Documentation</a> for setup instructions.\n",
       "</p>\n",
       "<p>\n",
       "  If you're reading this message in another frontend (for example, a static\n",
       "  rendering on GitHub or <a href=\"https://nbviewer.jupyter.org/\">NBViewer</a>),\n",
       "  it may mean that your frontend doesn't currently support widgets.\n",
       "</p>\n"
      ],
      "text/plain": [
       "HBox(children=(IntProgress(value=0, description='Warmup [3]', max=300, style=ProgressStyle(description_width='initial')), HTML(value='')))"
      ]
     },
     "metadata": {},
     "output_type": "display_data"
    },
    {
     "name": "stderr",
     "output_type": "stream",
     "text": [
      "\n",
      "Model: Partially Pooled with Logit\n",
      "========================\n",
      "\n",
      "Sigmoid (alpha):\n",
      "                      mean       std       25%       50%       75%  \\\n",
      "Roberto Clemente  0.296156  0.040719  0.266291  0.290531  0.320242   \n",
      "Frank Robinson    0.290568  0.039773  0.264530  0.284151  0.312349   \n",
      "Frank Howard      0.287571  0.039618  0.261698  0.280873  0.308512   \n",
      "Jay Johnstone     0.281311  0.036731  0.254630  0.278680  0.301954   \n",
      "Ken Berry         0.275172  0.034034  0.251361  0.273174  0.296399   \n",
      "Jim Spencer       0.275183  0.038243  0.248527  0.271953  0.294773   \n",
      "Don Kessinger     0.269896  0.034686  0.246947  0.265581  0.290342   \n",
      "Luis Alvarado     0.265240  0.035537  0.244533  0.264933  0.287217   \n",
      "Ron Santo         0.259697  0.034639  0.239275  0.262939  0.279452   \n",
      "Ron Swaboda       0.260685  0.035905  0.235296  0.259989  0.281871   \n",
      "Rico Petrocelli   0.253204  0.034641  0.232819  0.255023  0.273528   \n",
      "Ellie Rodriguez   0.254260  0.031659  0.235744  0.254733  0.273609   \n",
      "George Scott      0.253762  0.032302  0.234679  0.255867  0.275410   \n",
      "Del Unser         0.255131  0.031011  0.237398  0.257930  0.274724   \n",
      "Billy Williams    0.253935  0.032343  0.235494  0.254280  0.274392   \n",
      "Bert Campaneris   0.249635  0.037554  0.228033  0.251631  0.272752   \n",
      "Thurman Munson    0.243726  0.035686  0.222682  0.246175  0.265775   \n",
      "Max Alvis         0.240036  0.036551  0.218575  0.244242  0.265604   \n",
      "\n",
      "                       n_eff     r_hat  \n",
      "Roberto Clemente  121.284607  1.013094  \n",
      "Frank Robinson    184.031067  1.026909  \n",
      "Frank Howard      172.352524  1.026840  \n",
      "Jay Johnstone     229.283768  1.012468  \n",
      "Ken Berry         396.087372  1.004120  \n",
      "Jim Spencer       381.146912  1.003538  \n",
      "Don Kessinger     425.750122  0.998158  \n",
      "Luis Alvarado     380.661499  0.995409  \n",
      "Ron Santo         341.248383  0.998881  \n",
      "Ron Swaboda       339.627289  1.007532  \n",
      "Rico Petrocelli   258.199036  0.998102  \n",
      "Ellie Rodriguez   209.486450  0.999133  \n",
      "George Scott      239.857544  0.998382  \n",
      "Del Unser         204.318008  1.008240  \n",
      "Billy Williams    307.486664  1.000821  \n",
      "Bert Campaneris   292.427704  0.995667  \n",
      "Thurman Munson    122.848541  1.002400  \n",
      "Max Alvis          78.044556  1.012194  \n",
      "\n",
      "Posterior Predictive:\n",
      "Hit Rate - Initial 45 At Bats\n",
      "--------------------------\n",
      "                  mean  std   25%   50%   75%  ActualHits\n",
      "Roberto Clemente  18.0  0.0  18.0  18.0  18.0          18\n",
      "Frank Robinson    17.0  0.0  17.0  17.0  17.0          17\n",
      "Frank Howard      16.0  0.0  16.0  16.0  16.0          16\n",
      "Jay Johnstone     15.0  0.0  15.0  15.0  15.0          15\n",
      "Ken Berry         14.0  0.0  14.0  14.0  14.0          14\n",
      "Jim Spencer       14.0  0.0  14.0  14.0  14.0          14\n",
      "Don Kessinger     13.0  0.0  13.0  13.0  13.0          13\n",
      "Luis Alvarado     12.0  0.0  12.0  12.0  12.0          12\n",
      "Ron Santo         11.0  0.0  11.0  11.0  11.0          11\n",
      "Ron Swaboda       11.0  0.0  11.0  11.0  11.0          11\n",
      "Rico Petrocelli   10.0  0.0  10.0  10.0  10.0          10\n",
      "Ellie Rodriguez   10.0  0.0  10.0  10.0  10.0          10\n",
      "George Scott      10.0  0.0  10.0  10.0  10.0          10\n",
      "Del Unser         10.0  0.0  10.0  10.0  10.0          10\n",
      "Billy Williams    10.0  0.0  10.0  10.0  10.0          10\n",
      "Bert Campaneris    9.0  0.0   9.0   9.0   9.0           9\n",
      "Thurman Munson     8.0  0.0   8.0   8.0   8.0           8\n",
      "Max Alvis          7.0  0.0   7.0   7.0   7.0           7\n",
      "\n",
      "Hit Rate - Season Predictions\n",
      "--------------------------\n",
      "                  mean  std   25%   50%   75%  ActualHits\n",
      "Roberto Clemente  18.0  0.0  18.0  18.0  18.0         145\n",
      "Frank Robinson    17.0  0.0  17.0  17.0  17.0         144\n",
      "Frank Howard      16.0  0.0  16.0  16.0  16.0         160\n",
      "Jay Johnstone     15.0  0.0  15.0  15.0  15.0          76\n",
      "Ken Berry         14.0  0.0  14.0  14.0  14.0         128\n",
      "Jim Spencer       14.0  0.0  14.0  14.0  14.0         140\n",
      "Don Kessinger     13.0  0.0  13.0  13.0  13.0         168\n",
      "Luis Alvarado     12.0  0.0  12.0  12.0  12.0          41\n",
      "Ron Santo         11.0  0.0  11.0  11.0  11.0         148\n",
      "Ron Swaboda       11.0  0.0  11.0  11.0  11.0          57\n",
      "Rico Petrocelli   10.0  0.0  10.0  10.0  10.0         152\n",
      "Ellie Rodriguez   10.0  0.0  10.0  10.0  10.0          52\n",
      "George Scott      10.0  0.0  10.0  10.0  10.0         142\n",
      "Del Unser         10.0  0.0  10.0  10.0  10.0          83\n",
      "Billy Williams    10.0  0.0  10.0  10.0  10.0         205\n",
      "Bert Campaneris    9.0  0.0   9.0   9.0   9.0         168\n",
      "Thurman Munson     8.0  0.0   8.0   8.0   8.0         137\n",
      "Max Alvis          7.0  0.0   7.0   7.0   7.0          21\n",
      "\n",
      "Log posterior predictive density\n",
      "--------------------------\n",
      "-52.6788\n",
      "\n"
     ]
    }
   ],
   "source": [
    "nuts_kernel = NUTS(partially_pooled_with_logit)\n",
    "posterior_partially_pooled_with_logit = MCMC(nuts_kernel,\n",
    "                                             num_samples=num_samples,\n",
    "                                             warmup_steps=warmup_steps,\n",
    "                                             num_chains=num_chains).run(at_bats, hits)\n",
    "logging.info('\\nModel: Partially Pooled with Logit')\n",
    "logging.info('========================')\n",
    "logging.info('\\nSigmoid (alpha):')\n",
    "logging.info(summary(posterior_partially_pooled_with_logit,\n",
    "                     sites=['alpha'],\n",
    "                     player_names=player_names,\n",
    "                     transforms={'alpha': lambda x: 1. / (1 + (-x).exp())})['alpha'])\n",
    "posterior_predictive = TracePredictive(partially_pooled_with_logit,\n",
    "                                       posterior_partially_pooled_with_logit,\n",
    "                                       num_samples=num_predictive_samples)\n",
    "sample_posterior_predictive(posterior_predictive, data)\n",
    "evaluate_log_predictive_density(posterior_predictive, data)"
   ]
  },
  {
   "cell_type": "code",
   "execution_count": null,
   "metadata": {},
   "outputs": [],
   "source": []
  }
 ],
 "metadata": {
  "kernelspec": {
   "display_name": "Python 3",
   "language": "python",
   "name": "python3"
  },
  "language_info": {
   "codemirror_mode": {
    "name": "ipython",
    "version": 3
   },
   "file_extension": ".py",
   "mimetype": "text/x-python",
   "name": "python",
   "nbconvert_exporter": "python",
   "pygments_lexer": "ipython3",
   "version": "3.6.4"
  },
  "toc": {
   "base_numbering": 1,
   "nav_menu": {},
   "number_sections": true,
   "sideBar": true,
   "skip_h1_title": false,
   "title_cell": "Table of Contents",
   "title_sidebar": "Contents",
   "toc_cell": false,
   "toc_position": {},
   "toc_section_display": true,
   "toc_window_display": false
  }
 },
 "nbformat": 4,
 "nbformat_minor": 2
}
